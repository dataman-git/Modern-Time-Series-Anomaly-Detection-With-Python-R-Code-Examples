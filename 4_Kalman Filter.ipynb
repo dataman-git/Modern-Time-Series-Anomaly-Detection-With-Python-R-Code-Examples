{
 "cells": [
  {
   "cell_type": "markdown",
   "id": "0662d81d-fba7-47de-a941-36a6189033c5",
   "metadata": {},
   "source": [
    "### Kalman Filter\n",
    "\n",
    "* [Section 1: Stock price](#section1)\n",
    "* [Section 2: A moving object](#section2)\n",
    "\n",
    "### Section 1: Stock price"
   ]
  },
  {
   "cell_type": "code",
   "execution_count": 1,
   "id": "b04fb3ec-8c22-4b9a-a765-702b99429e6c",
   "metadata": {},
   "outputs": [
    {
     "name": "stdout",
     "output_type": "stream",
     "text": [
      "[*********************100%***********************]  1 of 1 completed\n"
     ]
    }
   ],
   "source": [
    "#! pip install yfinance\n",
    "#! pip install pykalman\n",
    "import yfinance as yf\n",
    "data = yf.download(\"SPY\", start=\"2017-01-01\", end=\"2021-12-31\")"
   ]
  },
  {
   "cell_type": "code",
   "execution_count": 2,
   "id": "efe775a0-22c4-426e-abfc-06e601a774b5",
   "metadata": {},
   "outputs": [
    {
     "data": {
      "text/html": [
       "<div>\n",
       "<style scoped>\n",
       "    .dataframe tbody tr th:only-of-type {\n",
       "        vertical-align: middle;\n",
       "    }\n",
       "\n",
       "    .dataframe tbody tr th {\n",
       "        vertical-align: top;\n",
       "    }\n",
       "\n",
       "    .dataframe thead th {\n",
       "        text-align: right;\n",
       "    }\n",
       "</style>\n",
       "<table border=\"1\" class=\"dataframe\">\n",
       "  <thead>\n",
       "    <tr style=\"text-align: right;\">\n",
       "      <th></th>\n",
       "      <th>Open</th>\n",
       "      <th>High</th>\n",
       "      <th>Low</th>\n",
       "      <th>Close</th>\n",
       "      <th>Adj Close</th>\n",
       "      <th>Volume</th>\n",
       "    </tr>\n",
       "    <tr>\n",
       "      <th>Date</th>\n",
       "      <th></th>\n",
       "      <th></th>\n",
       "      <th></th>\n",
       "      <th></th>\n",
       "      <th></th>\n",
       "      <th></th>\n",
       "    </tr>\n",
       "  </thead>\n",
       "  <tbody>\n",
       "    <tr>\n",
       "      <th>2017-01-03</th>\n",
       "      <td>225.039993</td>\n",
       "      <td>225.830002</td>\n",
       "      <td>223.880005</td>\n",
       "      <td>225.240005</td>\n",
       "      <td>208.213501</td>\n",
       "      <td>91366500</td>\n",
       "    </tr>\n",
       "    <tr>\n",
       "      <th>2017-01-04</th>\n",
       "      <td>225.619995</td>\n",
       "      <td>226.750000</td>\n",
       "      <td>225.610001</td>\n",
       "      <td>226.580002</td>\n",
       "      <td>209.452240</td>\n",
       "      <td>78744400</td>\n",
       "    </tr>\n",
       "    <tr>\n",
       "      <th>2017-01-05</th>\n",
       "      <td>226.270004</td>\n",
       "      <td>226.580002</td>\n",
       "      <td>225.479996</td>\n",
       "      <td>226.399994</td>\n",
       "      <td>209.285812</td>\n",
       "      <td>78379000</td>\n",
       "    </tr>\n",
       "    <tr>\n",
       "      <th>2017-01-06</th>\n",
       "      <td>226.529999</td>\n",
       "      <td>227.750000</td>\n",
       "      <td>225.899994</td>\n",
       "      <td>227.210007</td>\n",
       "      <td>210.034561</td>\n",
       "      <td>71559900</td>\n",
       "    </tr>\n",
       "    <tr>\n",
       "      <th>2017-01-09</th>\n",
       "      <td>226.910004</td>\n",
       "      <td>227.070007</td>\n",
       "      <td>226.419998</td>\n",
       "      <td>226.460007</td>\n",
       "      <td>209.341278</td>\n",
       "      <td>46939700</td>\n",
       "    </tr>\n",
       "  </tbody>\n",
       "</table>\n",
       "</div>"
      ],
      "text/plain": [
       "                  Open        High         Low       Close   Adj Close  \\\n",
       "Date                                                                     \n",
       "2017-01-03  225.039993  225.830002  223.880005  225.240005  208.213501   \n",
       "2017-01-04  225.619995  226.750000  225.610001  226.580002  209.452240   \n",
       "2017-01-05  226.270004  226.580002  225.479996  226.399994  209.285812   \n",
       "2017-01-06  226.529999  227.750000  225.899994  227.210007  210.034561   \n",
       "2017-01-09  226.910004  227.070007  226.419998  226.460007  209.341278   \n",
       "\n",
       "              Volume  \n",
       "Date                  \n",
       "2017-01-03  91366500  \n",
       "2017-01-04  78744400  \n",
       "2017-01-05  78379000  \n",
       "2017-01-06  71559900  \n",
       "2017-01-09  46939700  "
      ]
     },
     "execution_count": 2,
     "metadata": {},
     "output_type": "execute_result"
    }
   ],
   "source": [
    "data.head()"
   ]
  },
  {
   "cell_type": "code",
   "execution_count": 3,
   "id": "36abc7ad-f5d0-4b58-93ba-e28488e0d86b",
   "metadata": {},
   "outputs": [
    {
     "data": {
      "text/plain": [
       "Date\n",
       "2017-01-03    208.213501\n",
       "2017-01-04    209.452240\n",
       "2017-01-05    209.285812\n",
       "2017-01-06    210.034561\n",
       "2017-01-09    209.341278\n",
       "                 ...    \n",
       "2021-05-14    416.579987\n",
       "2021-05-17    415.519989\n",
       "2021-05-18    411.940002\n",
       "2021-05-19    410.859985\n",
       "2021-05-20    415.279999\n",
       "Name: Adj Close, Length: 1103, dtype: float64"
      ]
     },
     "execution_count": 3,
     "metadata": {},
     "output_type": "execute_result"
    }
   ],
   "source": [
    "X = data['Adj Close']\n",
    "X"
   ]
  },
  {
   "cell_type": "code",
   "execution_count": 4,
   "id": "b12bb825-4962-4e48-83cf-6254866c3463",
   "metadata": {},
   "outputs": [
    {
     "data": {
      "text/plain": [
       "array([[104.10675049],\n",
       "       [139.68701515],\n",
       "       [157.64501644],\n",
       "       ...,\n",
       "       [413.86745592],\n",
       "       [413.58137052],\n",
       "       [413.7429524 ]])"
      ]
     },
     "execution_count": 4,
     "metadata": {},
     "output_type": "execute_result"
    }
   ],
   "source": [
    "from pykalman import KalmanFilter\n",
    "import numpy as np\n",
    "import pandas as pd\n",
    "import matplotlib.pyplot as plt\n",
    "\n",
    "# Construct a Kalman filter\n",
    "kf = KalmanFilter(transition_matrices = [1],    # The value for At. It is a random walk so is set to 1.0\n",
    "                  observation_matrices = [1],   # The value for Ht.\n",
    "                  initial_state_mean = 0,       # Any initial value. It will converge to the true state value.\n",
    "                  initial_state_covariance = 1, # Sigma value for the Qt in Equation (1) the Gaussian distribution\n",
    "                  observation_covariance=1,     # Sigma value for the Rt in Equation (2) the Gaussian distribution\n",
    "                  transition_covariance=.01)    # A small turbulence in the random walk parameter 1.0\n",
    "# Get the Kalman smoothing\n",
    "state_means, _ = kf.filter(data['Adj Close'].values)\n",
    "state_means"
   ]
  },
  {
   "cell_type": "code",
   "execution_count": 5,
   "id": "bd9b2eda-2321-4b39-a761-5ffe286a02b6",
   "metadata": {},
   "outputs": [
    {
     "data": {
      "text/html": [
       "<div>\n",
       "<style scoped>\n",
       "    .dataframe tbody tr th:only-of-type {\n",
       "        vertical-align: middle;\n",
       "    }\n",
       "\n",
       "    .dataframe tbody tr th {\n",
       "        vertical-align: top;\n",
       "    }\n",
       "\n",
       "    .dataframe thead th {\n",
       "        text-align: right;\n",
       "    }\n",
       "</style>\n",
       "<table border=\"1\" class=\"dataframe\">\n",
       "  <thead>\n",
       "    <tr style=\"text-align: right;\">\n",
       "      <th></th>\n",
       "      <th>Open</th>\n",
       "      <th>High</th>\n",
       "      <th>Low</th>\n",
       "      <th>Close</th>\n",
       "      <th>Adj Close</th>\n",
       "      <th>Volume</th>\n",
       "      <th>KF_mean</th>\n",
       "    </tr>\n",
       "    <tr>\n",
       "      <th>Date</th>\n",
       "      <th></th>\n",
       "      <th></th>\n",
       "      <th></th>\n",
       "      <th></th>\n",
       "      <th></th>\n",
       "      <th></th>\n",
       "      <th></th>\n",
       "    </tr>\n",
       "  </thead>\n",
       "  <tbody>\n",
       "    <tr>\n",
       "      <th>2017-01-03</th>\n",
       "      <td>225.039993</td>\n",
       "      <td>225.830002</td>\n",
       "      <td>223.880005</td>\n",
       "      <td>225.240005</td>\n",
       "      <td>208.213501</td>\n",
       "      <td>91366500</td>\n",
       "      <td>104.106750</td>\n",
       "    </tr>\n",
       "    <tr>\n",
       "      <th>2017-01-04</th>\n",
       "      <td>225.619995</td>\n",
       "      <td>226.750000</td>\n",
       "      <td>225.610001</td>\n",
       "      <td>226.580002</td>\n",
       "      <td>209.452240</td>\n",
       "      <td>78744400</td>\n",
       "      <td>139.687015</td>\n",
       "    </tr>\n",
       "    <tr>\n",
       "      <th>2017-01-05</th>\n",
       "      <td>226.270004</td>\n",
       "      <td>226.580002</td>\n",
       "      <td>225.479996</td>\n",
       "      <td>226.399994</td>\n",
       "      <td>209.285812</td>\n",
       "      <td>78379000</td>\n",
       "      <td>157.645016</td>\n",
       "    </tr>\n",
       "    <tr>\n",
       "      <th>2017-01-06</th>\n",
       "      <td>226.529999</td>\n",
       "      <td>227.750000</td>\n",
       "      <td>225.899994</td>\n",
       "      <td>227.210007</td>\n",
       "      <td>210.034561</td>\n",
       "      <td>71559900</td>\n",
       "      <td>168.718593</td>\n",
       "    </tr>\n",
       "    <tr>\n",
       "      <th>2017-01-09</th>\n",
       "      <td>226.910004</td>\n",
       "      <td>227.070007</td>\n",
       "      <td>226.419998</td>\n",
       "      <td>226.460007</td>\n",
       "      <td>209.341278</td>\n",
       "      <td>46939700</td>\n",
       "      <td>176.081344</td>\n",
       "    </tr>\n",
       "  </tbody>\n",
       "</table>\n",
       "</div>"
      ],
      "text/plain": [
       "                  Open        High         Low       Close   Adj Close  \\\n",
       "Date                                                                     \n",
       "2017-01-03  225.039993  225.830002  223.880005  225.240005  208.213501   \n",
       "2017-01-04  225.619995  226.750000  225.610001  226.580002  209.452240   \n",
       "2017-01-05  226.270004  226.580002  225.479996  226.399994  209.285812   \n",
       "2017-01-06  226.529999  227.750000  225.899994  227.210007  210.034561   \n",
       "2017-01-09  226.910004  227.070007  226.419998  226.460007  209.341278   \n",
       "\n",
       "              Volume     KF_mean  \n",
       "Date                              \n",
       "2017-01-03  91366500  104.106750  \n",
       "2017-01-04  78744400  139.687015  \n",
       "2017-01-05  78379000  157.645016  \n",
       "2017-01-06  71559900  168.718593  \n",
       "2017-01-09  46939700  176.081344  "
      ]
     },
     "execution_count": 5,
     "metadata": {},
     "output_type": "execute_result"
    }
   ],
   "source": [
    "data['KF_mean'] = np.array(state_means)\n",
    "data.head()"
   ]
  },
  {
   "cell_type": "code",
   "execution_count": 6,
   "id": "c5b468ba-651d-4e8b-b29a-cb61c982e559",
   "metadata": {},
   "outputs": [
    {
     "data": {
      "text/html": [
       "<div>\n",
       "<style scoped>\n",
       "    .dataframe tbody tr th:only-of-type {\n",
       "        vertical-align: middle;\n",
       "    }\n",
       "\n",
       "    .dataframe tbody tr th {\n",
       "        vertical-align: top;\n",
       "    }\n",
       "\n",
       "    .dataframe thead th {\n",
       "        text-align: right;\n",
       "    }\n",
       "</style>\n",
       "<table border=\"1\" class=\"dataframe\">\n",
       "  <thead>\n",
       "    <tr style=\"text-align: right;\">\n",
       "      <th></th>\n",
       "      <th>Open</th>\n",
       "      <th>High</th>\n",
       "      <th>Low</th>\n",
       "      <th>Close</th>\n",
       "      <th>Adj Close</th>\n",
       "      <th>Volume</th>\n",
       "      <th>KF_mean</th>\n",
       "    </tr>\n",
       "    <tr>\n",
       "      <th>Date</th>\n",
       "      <th></th>\n",
       "      <th></th>\n",
       "      <th></th>\n",
       "      <th></th>\n",
       "      <th></th>\n",
       "      <th></th>\n",
       "      <th></th>\n",
       "    </tr>\n",
       "  </thead>\n",
       "  <tbody>\n",
       "    <tr>\n",
       "      <th>2021-05-14</th>\n",
       "      <td>413.209991</td>\n",
       "      <td>417.489990</td>\n",
       "      <td>413.179993</td>\n",
       "      <td>416.579987</td>\n",
       "      <td>416.579987</td>\n",
       "      <td>82123100</td>\n",
       "      <td>413.917658</td>\n",
       "    </tr>\n",
       "    <tr>\n",
       "      <th>2021-05-17</th>\n",
       "      <td>415.390015</td>\n",
       "      <td>416.390015</td>\n",
       "      <td>413.359985</td>\n",
       "      <td>415.519989</td>\n",
       "      <td>415.519989</td>\n",
       "      <td>65129200</td>\n",
       "      <td>414.070079</td>\n",
       "    </tr>\n",
       "    <tr>\n",
       "      <th>2021-05-18</th>\n",
       "      <td>415.799988</td>\n",
       "      <td>416.059998</td>\n",
       "      <td>411.769989</td>\n",
       "      <td>411.940002</td>\n",
       "      <td>411.940002</td>\n",
       "      <td>59810200</td>\n",
       "      <td>413.867456</td>\n",
       "    </tr>\n",
       "    <tr>\n",
       "      <th>2021-05-19</th>\n",
       "      <td>406.920013</td>\n",
       "      <td>411.049988</td>\n",
       "      <td>405.329987</td>\n",
       "      <td>410.859985</td>\n",
       "      <td>410.859985</td>\n",
       "      <td>106355400</td>\n",
       "      <td>413.581371</td>\n",
       "    </tr>\n",
       "    <tr>\n",
       "      <th>2021-05-20</th>\n",
       "      <td>411.799988</td>\n",
       "      <td>416.619995</td>\n",
       "      <td>411.670013</td>\n",
       "      <td>415.279999</td>\n",
       "      <td>415.279999</td>\n",
       "      <td>77360973</td>\n",
       "      <td>413.742952</td>\n",
       "    </tr>\n",
       "  </tbody>\n",
       "</table>\n",
       "</div>"
      ],
      "text/plain": [
       "                  Open        High         Low       Close   Adj Close  \\\n",
       "Date                                                                     \n",
       "2021-05-14  413.209991  417.489990  413.179993  416.579987  416.579987   \n",
       "2021-05-17  415.390015  416.390015  413.359985  415.519989  415.519989   \n",
       "2021-05-18  415.799988  416.059998  411.769989  411.940002  411.940002   \n",
       "2021-05-19  406.920013  411.049988  405.329987  410.859985  410.859985   \n",
       "2021-05-20  411.799988  416.619995  411.670013  415.279999  415.279999   \n",
       "\n",
       "               Volume     KF_mean  \n",
       "Date                               \n",
       "2021-05-14   82123100  413.917658  \n",
       "2021-05-17   65129200  414.070079  \n",
       "2021-05-18   59810200  413.867456  \n",
       "2021-05-19  106355400  413.581371  \n",
       "2021-05-20   77360973  413.742952  "
      ]
     },
     "execution_count": 6,
     "metadata": {},
     "output_type": "execute_result"
    }
   ],
   "source": [
    "data.tail()"
   ]
  },
  {
   "cell_type": "code",
   "execution_count": 7,
   "id": "897514e3-26e3-4854-93a4-e9ae7b7266ea",
   "metadata": {},
   "outputs": [
    {
     "data": {
      "text/plain": [
       "Text(0, 0.5, 'Price')"
      ]
     },
     "execution_count": 7,
     "metadata": {},
     "output_type": "execute_result"
    },
    {
     "data": {
      "image/png": "[encoded data removed]",
      "text/plain": [
       "<Figure size 432x288 with 1 Axes>"
      ]
     },
     "metadata": {
      "needs_background": "light"
     },
     "output_type": "display_data"
    }
   ],
   "source": [
    "data[['Adj Close','KF_mean']].plot()\n",
    "plt.title('Kalman Filter estimates for SPY')\n",
    "plt.legend(['SPY','Kalman Estimate'])\n",
    "plt.xlabel('Day')\n",
    "plt.ylabel('Price')"
   ]
  },
  {
   "cell_type": "markdown",
   "id": "f36bed2e-8a12-4867-9139-f98c23cff97e",
   "metadata": {},
   "source": [
    "### Section 2: A Moving objective"
   ]
  },
  {
   "cell_type": "code",
   "execution_count": 63,
   "id": "9914593b-982e-4309-af63-4224e8271158",
   "metadata": {},
   "outputs": [
    {
     "data": {
      "image/png": "[encoded data removed]",
      "text/plain": [
       "<Figure size 1152x432 with 1 Axes>"
      ]
     },
     "metadata": {
      "needs_background": "light"
     },
     "output_type": "display_data"
    }
   ],
   "source": [
    "import numpy as np\n",
    "import pylab as pl\n",
    "from pykalman import KalmanFilter\n",
    "\n",
    "rnd = np.random.RandomState(0)\n",
    "n_timesteps = 100\n",
    "x = np.linspace(0, 3 * np.pi, n_timesteps)\n",
    "y = 20 * (np.sin(x) + 0.5 * rnd.randn(n_timesteps))\n",
    "pl.figure(figsize=(16, 6))\n",
    "pl.scatter(x,y, marker='x', color='b', label='observations')\n",
    "pl.xlabel('time')\n",
    "pl.ylabel('Position')\n",
    "pl.show()"
   ]
  },
  {
   "cell_type": "code",
   "execution_count": 56,
   "id": "f207e96c-4b6b-4286-a27e-efaaae9cd3e9",
   "metadata": {},
   "outputs": [],
   "source": [
    "kf = KalmanFilter(transition_matrices=np.array([[1, 1], [0, 1]]),\n",
    "                  transition_covariance=0.01 * np.eye(2))\n",
    "states_pred = kf.em(y).smooth(y)[0]"
   ]
  },
  {
   "cell_type": "code",
   "execution_count": 57,
   "id": "544aa034-0a1e-4fae-91e8-b0e630ceda58",
   "metadata": {},
   "outputs": [
    {
     "data": {
      "image/png": "[encoded data removed]",
      "text/plain": [
       "<Figure size 1152x432 with 1 Axes>"
      ]
     },
     "metadata": {
      "needs_background": "light"
     },
     "output_type": "display_data"
    }
   ],
   "source": [
    "pl.figure(figsize=(16, 6))\n",
    "obs_scatter = pl.scatter(x, y, marker='x', color='b',\n",
    "                         label='observations')\n",
    "position_line = pl.plot(x, states_pred[:, 0],markersize=2,\n",
    "                        linestyle='-', marker='o', color='r',\n",
    "                        label='position est.')\n",
    "velocity_line = pl.plot(x, states_pred[:, 1],markersize=2,\n",
    "                        linestyle='-', marker='o', color='g',\n",
    "                        label='velocity est.')\n",
    "pl.legend(loc='lower left',fontsize=14)\n",
    "pl.xlim(xmin=0, xmax=x.max())\n",
    "pl.xlabel('time')\n",
    "pl.show()"
   ]
  },
  {
   "cell_type": "code",
   "execution_count": 34,
   "id": "a406dd25-ccf7-46ed-9345-67f5c9f26a78",
   "metadata": {},
   "outputs": [
    {
     "data": {
      "image/png": "[encoded data removed]",
      "text/plain": [
       "<Figure size 1152x432 with 1 Axes>"
      ]
     },
     "metadata": {
      "needs_background": "light"
     },
     "output_type": "display_data"
    }
   ],
   "source": [
    "kf = KalmanFilter(transition_matrices=[1],\n",
    "                  transition_covariance=0.01)\n",
    "states_pred = kf.em(y).smooth(y)[0]\n",
    "\n",
    "pl.figure(figsize=(16, 6))\n",
    "obs_scatter = pl.scatter(x, y, marker='x', color='b',\n",
    "                         label='observations')\n",
    "position_line = pl.plot(x, states_pred,markersize=2,\n",
    "                        linestyle='-', marker='o', color='r',\n",
    "                        label='position est.')\n",
    "pl.legend(loc='lower left',fontsize=14)\n",
    "pl.xlim(xmin=0, xmax=x.max())\n",
    "pl.xlabel('time')\n",
    "pl.ylabel('Position')\n",
    "pl.show()"
   ]
  },
  {
   "cell_type": "code",
   "execution_count": null,
   "id": "9a9648a1-0e82-47c0-8648-caecd4e0f3a9",
   "metadata": {},
   "outputs": [],
   "source": []
  },
  {
   "cell_type": "code",
   "execution_count": null,
   "id": "faabd4a1-5b61-435b-a189-656de2bf1ec2",
   "metadata": {},
   "outputs": [],
   "source": []
  }
 ],
 "metadata": {
  "kernelspec": {
   "display_name": "Python 3",
   "language": "python",
   "name": "python3"
  },
  "language_info": {
   "codemirror_mode": {
    "name": "ipython",
    "version": 3
   },
   "file_extension": ".py",
   "mimetype": "text/x-python",
   "name": "python",
   "nbconvert_exporter": "python",
   "pygments_lexer": "ipython3",
   "version": "3.8.2"
  }
 },
 "nbformat": 4,
 "nbformat_minor": 5
}
